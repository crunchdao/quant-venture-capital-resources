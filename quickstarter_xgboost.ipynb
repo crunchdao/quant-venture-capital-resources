{
 "cells": [
  {
   "cell_type": "markdown",
   "metadata": {},
   "source": [
    "[![Open In Colab](https://colab.research.google.com/assets/colab-badge.svg)](https://colab.research.google.com/github/crunchdao/quant-venture-capital-resources/blob/main/quickstarter_xgboost.ipynb)"
   ]
  },
  {
   "cell_type": "markdown",
   "metadata": {},
   "source": [
    "![cover](https://raw.githubusercontent.com/crunchdao/quant-venture-capital-resources/main/cover.jpeg)"
   ]
  },
  {
   "cell_type": "markdown",
   "metadata": {
    "id": "QIGffwE2wBsi"
   },
   "source": [
    "# Set up your crunch workspace"
   ]
  },
  {
   "cell_type": "markdown",
   "metadata": {
    "id": "wPwpdl83wBsi"
   },
   "source": [
    "#### STEP 1\n",
    "Run this cell to install the crunch library in your workspace.\n",
    "This command will create a crunch-cli folder in your workspace."
   ]
  },
  {
   "cell_type": "code",
   "execution_count": null,
   "metadata": {
    "id": "4C7QjMkqBOKw",
    "tags": []
   },
   "outputs": [],
   "source": [
    "# Grab the following command here: https://hub.crunchdao.com/competitions/venture-capital-portfolio-prediction/submit/via/notebook\n",
    "%pip install crunch-cli --upgrade \n",
    "!crunch setup venture-capital-portfolio-prediction . --token NEaIJ8gaHO6P9e4TbLVmbVvKHsntJ61eIKj2Yb52wPWY2OFXhyYvkGddsWEv4pmZ --force"
   ]
  },
  {
   "cell_type": "markdown",
   "metadata": {
    "id": "kaVIsoyowBsl"
   },
   "source": [
    "#### STEP 2\n",
    "Import the crunch package and instantiate it to be able to access its functionality."
   ]
  },
  {
   "cell_type": "code",
   "execution_count": 2,
   "metadata": {
    "id": "tHV_tK7EwBsm",
    "tags": []
   },
   "outputs": [
    {
     "name": "stdout",
     "output_type": "stream",
     "text": [
      "loaded inline runner with module: <module '__main__'>\n"
     ]
    }
   ],
   "source": [
    "import crunch\n",
    "crunch = crunch.load_notebook(__name__)"
   ]
  },
  {
   "attachments": {},
   "cell_type": "markdown",
   "metadata": {
    "id": "fJqTMeLqwBsm"
   },
   "source": [
    "# X-ALPHA Venture Capital Portfolio Rally"
   ]
  },
  {
   "attachments": {},
   "cell_type": "markdown",
   "metadata": {},
   "source": [
    "## Submission Phase - 4 Weeks:\n",
    "\n",
    "- You can submit your solution in the form of either a notebook or a Python script.\n",
    "- Test your code using the provided test command.\n",
    "- There is No public leaderboard; [Cross-validation](https://en.wikipedia.org/wiki/Cross-validation_(statistics)) is your best friend."
   ]
  },
  {
   "cell_type": "markdown",
   "metadata": {},
   "source": [
    "## Data"
   ]
  },
  {
   "cell_type": "code",
   "execution_count": 3,
   "metadata": {},
   "outputs": [
    {
     "name": "stdout",
     "output_type": "stream",
     "text": [
      "download data/X_train.parquet from https://crunchdao--competition--production.s3.eu-west-1.amazonaws.com/data-releases/24/X_train.parquet\n",
      "already exists: file length match\n",
      "download data/y_train.parquet from https://crunchdao--competition--production.s3.eu-west-1.amazonaws.com/data-releases/24/y_train.parquet\n",
      "already exists: file length match\n",
      "download data/X_test.parquet from https://crunchdao--competition--production.s3.eu-west-1.amazonaws.com/data-releases/24/X_test_reduced.parquet\n",
      "already exists: file length match\n",
      "download data/y_test.parquet from https://crunchdao--competition--production.s3.eu-west-1.amazonaws.com/data-releases/24/y_test_reduced.parquet\n",
      "already exists: file length match\n"
     ]
    }
   ],
   "source": [
    "import pandas as pd\n",
    "# Getting the data\n",
    "X_train, y_train, X_test = crunch.load_data()"
   ]
  },
  {
   "cell_type": "code",
   "execution_count": 4,
   "metadata": {},
   "outputs": [
    {
     "data": {
      "text/html": [
       "<div>\n",
       "<style scoped>\n",
       "    .dataframe tbody tr th:only-of-type {\n",
       "        vertical-align: middle;\n",
       "    }\n",
       "\n",
       "    .dataframe tbody tr th {\n",
       "        vertical-align: top;\n",
       "    }\n",
       "\n",
       "    .dataframe thead th {\n",
       "        text-align: right;\n",
       "    }\n",
       "</style>\n",
       "<table border=\"1\" class=\"dataframe\">\n",
       "  <thead>\n",
       "    <tr style=\"text-align: right;\">\n",
       "      <th></th>\n",
       "      <th>date</th>\n",
       "      <th>id</th>\n",
       "      <th>feature_1</th>\n",
       "      <th>feature_2</th>\n",
       "      <th>feature_3</th>\n",
       "      <th>feature_4</th>\n",
       "      <th>feature_5</th>\n",
       "      <th>feature_6</th>\n",
       "      <th>feature_7</th>\n",
       "      <th>feature_8</th>\n",
       "      <th>...</th>\n",
       "      <th>feature_220</th>\n",
       "      <th>feature_221</th>\n",
       "      <th>feature_222</th>\n",
       "      <th>feature_223</th>\n",
       "      <th>feature_224</th>\n",
       "      <th>feature_225</th>\n",
       "      <th>feature_226</th>\n",
       "      <th>feature_227</th>\n",
       "      <th>feature_228</th>\n",
       "      <th>feature_229</th>\n",
       "    </tr>\n",
       "  </thead>\n",
       "  <tbody>\n",
       "    <tr>\n",
       "      <th>0</th>\n",
       "      <td>0</td>\n",
       "      <td>0</td>\n",
       "      <td>0</td>\n",
       "      <td>0</td>\n",
       "      <td>0</td>\n",
       "      <td>0</td>\n",
       "      <td>0</td>\n",
       "      <td>0</td>\n",
       "      <td>0.0</td>\n",
       "      <td>0.0</td>\n",
       "      <td>...</td>\n",
       "      <td>0.0</td>\n",
       "      <td>0.0</td>\n",
       "      <td>0.0</td>\n",
       "      <td>0.0</td>\n",
       "      <td>0.0</td>\n",
       "      <td>0.0</td>\n",
       "      <td>0.0</td>\n",
       "      <td>0.0</td>\n",
       "      <td>0.0</td>\n",
       "      <td>0.0</td>\n",
       "    </tr>\n",
       "    <tr>\n",
       "      <th>1</th>\n",
       "      <td>0</td>\n",
       "      <td>2</td>\n",
       "      <td>0</td>\n",
       "      <td>0</td>\n",
       "      <td>0</td>\n",
       "      <td>0</td>\n",
       "      <td>0</td>\n",
       "      <td>0</td>\n",
       "      <td>0.0</td>\n",
       "      <td>0.0</td>\n",
       "      <td>...</td>\n",
       "      <td>11.6</td>\n",
       "      <td>10.14</td>\n",
       "      <td>9.2</td>\n",
       "      <td>0.0</td>\n",
       "      <td>0.0</td>\n",
       "      <td>0.0</td>\n",
       "      <td>0.0</td>\n",
       "      <td>0.0</td>\n",
       "      <td>0.0</td>\n",
       "      <td>0.0</td>\n",
       "    </tr>\n",
       "    <tr>\n",
       "      <th>2</th>\n",
       "      <td>0</td>\n",
       "      <td>3</td>\n",
       "      <td>0</td>\n",
       "      <td>0</td>\n",
       "      <td>0</td>\n",
       "      <td>0</td>\n",
       "      <td>0</td>\n",
       "      <td>0</td>\n",
       "      <td>0.0</td>\n",
       "      <td>0.0</td>\n",
       "      <td>...</td>\n",
       "      <td>0.0</td>\n",
       "      <td>0.0</td>\n",
       "      <td>0.0</td>\n",
       "      <td>0.0</td>\n",
       "      <td>0.0</td>\n",
       "      <td>0.0</td>\n",
       "      <td>0.0</td>\n",
       "      <td>0.0</td>\n",
       "      <td>0.0</td>\n",
       "      <td>0.0</td>\n",
       "    </tr>\n",
       "    <tr>\n",
       "      <th>3</th>\n",
       "      <td>0</td>\n",
       "      <td>4</td>\n",
       "      <td>0</td>\n",
       "      <td>0</td>\n",
       "      <td>0</td>\n",
       "      <td>0</td>\n",
       "      <td>0</td>\n",
       "      <td>0</td>\n",
       "      <td>0.0</td>\n",
       "      <td>0.0</td>\n",
       "      <td>...</td>\n",
       "      <td>0.0</td>\n",
       "      <td>0.0</td>\n",
       "      <td>0.0</td>\n",
       "      <td>0.0</td>\n",
       "      <td>0.0</td>\n",
       "      <td>0.0</td>\n",
       "      <td>0.0</td>\n",
       "      <td>0.0</td>\n",
       "      <td>0.0</td>\n",
       "      <td>0.0</td>\n",
       "    </tr>\n",
       "    <tr>\n",
       "      <th>4</th>\n",
       "      <td>0</td>\n",
       "      <td>5</td>\n",
       "      <td>0</td>\n",
       "      <td>0</td>\n",
       "      <td>0</td>\n",
       "      <td>0</td>\n",
       "      <td>0</td>\n",
       "      <td>0</td>\n",
       "      <td>0.0</td>\n",
       "      <td>0.0</td>\n",
       "      <td>...</td>\n",
       "      <td>0.0</td>\n",
       "      <td>0.0</td>\n",
       "      <td>0.0</td>\n",
       "      <td>0.0</td>\n",
       "      <td>5.71</td>\n",
       "      <td>9.31</td>\n",
       "      <td>0.0</td>\n",
       "      <td>0.0</td>\n",
       "      <td>0.0</td>\n",
       "      <td>0.0</td>\n",
       "    </tr>\n",
       "    <tr>\n",
       "      <th>...</th>\n",
       "      <td>...</td>\n",
       "      <td>...</td>\n",
       "      <td>...</td>\n",
       "      <td>...</td>\n",
       "      <td>...</td>\n",
       "      <td>...</td>\n",
       "      <td>...</td>\n",
       "      <td>...</td>\n",
       "      <td>...</td>\n",
       "      <td>...</td>\n",
       "      <td>...</td>\n",
       "      <td>...</td>\n",
       "      <td>...</td>\n",
       "      <td>...</td>\n",
       "      <td>...</td>\n",
       "      <td>...</td>\n",
       "      <td>...</td>\n",
       "      <td>...</td>\n",
       "      <td>...</td>\n",
       "      <td>...</td>\n",
       "      <td>...</td>\n",
       "    </tr>\n",
       "    <tr>\n",
       "      <th>2662756</th>\n",
       "      <td>35</td>\n",
       "      <td>5318586</td>\n",
       "      <td>0</td>\n",
       "      <td>0</td>\n",
       "      <td>0</td>\n",
       "      <td>0</td>\n",
       "      <td>0</td>\n",
       "      <td>0</td>\n",
       "      <td>0.0</td>\n",
       "      <td>0.0</td>\n",
       "      <td>...</td>\n",
       "      <td>0.0</td>\n",
       "      <td>0.0</td>\n",
       "      <td>0.0</td>\n",
       "      <td>0.0</td>\n",
       "      <td>0.0</td>\n",
       "      <td>0.0</td>\n",
       "      <td>0.0</td>\n",
       "      <td>0.0</td>\n",
       "      <td>0.0</td>\n",
       "      <td>0.0</td>\n",
       "    </tr>\n",
       "    <tr>\n",
       "      <th>2662757</th>\n",
       "      <td>35</td>\n",
       "      <td>5318588</td>\n",
       "      <td>0</td>\n",
       "      <td>0</td>\n",
       "      <td>0</td>\n",
       "      <td>0</td>\n",
       "      <td>0</td>\n",
       "      <td>0</td>\n",
       "      <td>0.0</td>\n",
       "      <td>0.0</td>\n",
       "      <td>...</td>\n",
       "      <td>0.0</td>\n",
       "      <td>0.0</td>\n",
       "      <td>0.0</td>\n",
       "      <td>0.0</td>\n",
       "      <td>0.0</td>\n",
       "      <td>0.0</td>\n",
       "      <td>0.0</td>\n",
       "      <td>0.0</td>\n",
       "      <td>0.0</td>\n",
       "      <td>0.0</td>\n",
       "    </tr>\n",
       "    <tr>\n",
       "      <th>2662758</th>\n",
       "      <td>35</td>\n",
       "      <td>5318590</td>\n",
       "      <td>0</td>\n",
       "      <td>0</td>\n",
       "      <td>0</td>\n",
       "      <td>0</td>\n",
       "      <td>0</td>\n",
       "      <td>0</td>\n",
       "      <td>0.0</td>\n",
       "      <td>0.0</td>\n",
       "      <td>...</td>\n",
       "      <td>0.0</td>\n",
       "      <td>0.0</td>\n",
       "      <td>0.0</td>\n",
       "      <td>0.0</td>\n",
       "      <td>1.33</td>\n",
       "      <td>1.24</td>\n",
       "      <td>0.0</td>\n",
       "      <td>0.0</td>\n",
       "      <td>0.0</td>\n",
       "      <td>0.0</td>\n",
       "    </tr>\n",
       "    <tr>\n",
       "      <th>2662759</th>\n",
       "      <td>35</td>\n",
       "      <td>5318591</td>\n",
       "      <td>0</td>\n",
       "      <td>0</td>\n",
       "      <td>0</td>\n",
       "      <td>0</td>\n",
       "      <td>0</td>\n",
       "      <td>0</td>\n",
       "      <td>0.0</td>\n",
       "      <td>0.0</td>\n",
       "      <td>...</td>\n",
       "      <td>0.0</td>\n",
       "      <td>0.0</td>\n",
       "      <td>0.0</td>\n",
       "      <td>0.0</td>\n",
       "      <td>0.0</td>\n",
       "      <td>0.0</td>\n",
       "      <td>0.0</td>\n",
       "      <td>0.0</td>\n",
       "      <td>0.0</td>\n",
       "      <td>0.0</td>\n",
       "    </tr>\n",
       "    <tr>\n",
       "      <th>2662760</th>\n",
       "      <td>35</td>\n",
       "      <td>5318592</td>\n",
       "      <td>0</td>\n",
       "      <td>0</td>\n",
       "      <td>0</td>\n",
       "      <td>0</td>\n",
       "      <td>0</td>\n",
       "      <td>0</td>\n",
       "      <td>0.0</td>\n",
       "      <td>0.0</td>\n",
       "      <td>...</td>\n",
       "      <td>0.0</td>\n",
       "      <td>0.0</td>\n",
       "      <td>0.0</td>\n",
       "      <td>0.0</td>\n",
       "      <td>0.0</td>\n",
       "      <td>0.0</td>\n",
       "      <td>0.0</td>\n",
       "      <td>0.0</td>\n",
       "      <td>0.0</td>\n",
       "      <td>0.0</td>\n",
       "    </tr>\n",
       "  </tbody>\n",
       "</table>\n",
       "<p>2662761 rows × 231 columns</p>\n",
       "</div>"
      ],
      "text/plain": [
       "         date       id  feature_1  feature_2  feature_3  feature_4  feature_5  \\\n",
       "0           0        0          0          0          0          0          0   \n",
       "1           0        2          0          0          0          0          0   \n",
       "2           0        3          0          0          0          0          0   \n",
       "3           0        4          0          0          0          0          0   \n",
       "4           0        5          0          0          0          0          0   \n",
       "...       ...      ...        ...        ...        ...        ...        ...   \n",
       "2662756    35  5318586          0          0          0          0          0   \n",
       "2662757    35  5318588          0          0          0          0          0   \n",
       "2662758    35  5318590          0          0          0          0          0   \n",
       "2662759    35  5318591          0          0          0          0          0   \n",
       "2662760    35  5318592          0          0          0          0          0   \n",
       "\n",
       "         feature_6  feature_7  feature_8  ...  feature_220  feature_221  \\\n",
       "0                0        0.0        0.0  ...          0.0          0.0   \n",
       "1                0        0.0        0.0  ...         11.6        10.14   \n",
       "2                0        0.0        0.0  ...          0.0          0.0   \n",
       "3                0        0.0        0.0  ...          0.0          0.0   \n",
       "4                0        0.0        0.0  ...          0.0          0.0   \n",
       "...            ...        ...        ...  ...          ...          ...   \n",
       "2662756          0        0.0        0.0  ...          0.0          0.0   \n",
       "2662757          0        0.0        0.0  ...          0.0          0.0   \n",
       "2662758          0        0.0        0.0  ...          0.0          0.0   \n",
       "2662759          0        0.0        0.0  ...          0.0          0.0   \n",
       "2662760          0        0.0        0.0  ...          0.0          0.0   \n",
       "\n",
       "         feature_222  feature_223  feature_224  feature_225  feature_226  \\\n",
       "0                0.0          0.0          0.0          0.0          0.0   \n",
       "1                9.2          0.0          0.0          0.0          0.0   \n",
       "2                0.0          0.0          0.0          0.0          0.0   \n",
       "3                0.0          0.0          0.0          0.0          0.0   \n",
       "4                0.0          0.0         5.71         9.31          0.0   \n",
       "...              ...          ...          ...          ...          ...   \n",
       "2662756          0.0          0.0          0.0          0.0          0.0   \n",
       "2662757          0.0          0.0          0.0          0.0          0.0   \n",
       "2662758          0.0          0.0         1.33         1.24          0.0   \n",
       "2662759          0.0          0.0          0.0          0.0          0.0   \n",
       "2662760          0.0          0.0          0.0          0.0          0.0   \n",
       "\n",
       "         feature_227  feature_228  feature_229  \n",
       "0                0.0          0.0          0.0  \n",
       "1                0.0          0.0          0.0  \n",
       "2                0.0          0.0          0.0  \n",
       "3                0.0          0.0          0.0  \n",
       "4                0.0          0.0          0.0  \n",
       "...              ...          ...          ...  \n",
       "2662756          0.0          0.0          0.0  \n",
       "2662757          0.0          0.0          0.0  \n",
       "2662758          0.0          0.0          0.0  \n",
       "2662759          0.0          0.0          0.0  \n",
       "2662760          0.0          0.0          0.0  \n",
       "\n",
       "[2662761 rows x 231 columns]"
      ]
     },
     "metadata": {},
     "output_type": "display_data"
    }
   ],
   "source": [
    "display(X_train) # training data = 35 dates"
   ]
  },
  {
   "cell_type": "code",
   "execution_count": 5,
   "metadata": {},
   "outputs": [
    {
     "data": {
      "text/html": [
       "<div>\n",
       "<style scoped>\n",
       "    .dataframe tbody tr th:only-of-type {\n",
       "        vertical-align: middle;\n",
       "    }\n",
       "\n",
       "    .dataframe tbody tr th {\n",
       "        vertical-align: top;\n",
       "    }\n",
       "\n",
       "    .dataframe thead th {\n",
       "        text-align: right;\n",
       "    }\n",
       "</style>\n",
       "<table border=\"1\" class=\"dataframe\">\n",
       "  <thead>\n",
       "    <tr style=\"text-align: right;\">\n",
       "      <th></th>\n",
       "      <th>date</th>\n",
       "      <th>id</th>\n",
       "      <th>target_r3</th>\n",
       "    </tr>\n",
       "  </thead>\n",
       "  <tbody>\n",
       "    <tr>\n",
       "      <th>0</th>\n",
       "      <td>0</td>\n",
       "      <td>0</td>\n",
       "      <td>0</td>\n",
       "    </tr>\n",
       "    <tr>\n",
       "      <th>1</th>\n",
       "      <td>0</td>\n",
       "      <td>2</td>\n",
       "      <td>0</td>\n",
       "    </tr>\n",
       "    <tr>\n",
       "      <th>2</th>\n",
       "      <td>0</td>\n",
       "      <td>3</td>\n",
       "      <td>0</td>\n",
       "    </tr>\n",
       "    <tr>\n",
       "      <th>3</th>\n",
       "      <td>0</td>\n",
       "      <td>4</td>\n",
       "      <td>0</td>\n",
       "    </tr>\n",
       "    <tr>\n",
       "      <th>4</th>\n",
       "      <td>0</td>\n",
       "      <td>5</td>\n",
       "      <td>0</td>\n",
       "    </tr>\n",
       "    <tr>\n",
       "      <th>...</th>\n",
       "      <td>...</td>\n",
       "      <td>...</td>\n",
       "      <td>...</td>\n",
       "    </tr>\n",
       "    <tr>\n",
       "      <th>2662756</th>\n",
       "      <td>35</td>\n",
       "      <td>5318586</td>\n",
       "      <td>0</td>\n",
       "    </tr>\n",
       "    <tr>\n",
       "      <th>2662757</th>\n",
       "      <td>35</td>\n",
       "      <td>5318588</td>\n",
       "      <td>0</td>\n",
       "    </tr>\n",
       "    <tr>\n",
       "      <th>2662758</th>\n",
       "      <td>35</td>\n",
       "      <td>5318590</td>\n",
       "      <td>0</td>\n",
       "    </tr>\n",
       "    <tr>\n",
       "      <th>2662759</th>\n",
       "      <td>35</td>\n",
       "      <td>5318591</td>\n",
       "      <td>0</td>\n",
       "    </tr>\n",
       "    <tr>\n",
       "      <th>2662760</th>\n",
       "      <td>35</td>\n",
       "      <td>5318592</td>\n",
       "      <td>0</td>\n",
       "    </tr>\n",
       "  </tbody>\n",
       "</table>\n",
       "<p>2662761 rows × 3 columns</p>\n",
       "</div>"
      ],
      "text/plain": [
       "         date       id  target_r3\n",
       "0           0        0          0\n",
       "1           0        2          0\n",
       "2           0        3          0\n",
       "3           0        4          0\n",
       "4           0        5          0\n",
       "...       ...      ...        ...\n",
       "2662756    35  5318586          0\n",
       "2662757    35  5318588          0\n",
       "2662758    35  5318590          0\n",
       "2662759    35  5318591          0\n",
       "2662760    35  5318592          0\n",
       "\n",
       "[2662761 rows x 3 columns]"
      ]
     },
     "metadata": {},
     "output_type": "display_data"
    }
   ],
   "source": [
    "display(y_train) # training label: target_r3"
   ]
  },
  {
   "attachments": {},
   "cell_type": "markdown",
   "metadata": {},
   "source": [
    "## Coding Guidelines\n",
    "\n",
    "Your submission needs to provide at least three components: imports, `train()`, and `infer()`.\n",
    "\n",
    "1. **Imports:** As with any script, if your solution contains dependencies on external packages, make sure to import them. The system will automatically install your dependencies. Make sure that you are only using packages that are whitelisted [here](https://hub.crunchdao.com/competitions/venture-capital-portfolio-prediction/submit).\n",
    "\n",
    "2. **`train()`:** In the training phase, users will build the model and train it so that it can perform inferences on the testing data. The model must be saved in the `resources` directory.\n",
    "\n",
    "3. **`infer()`:** In the inference function, the model trained in the previous step will be loaded and used to perform inferences on a data sample matching the characteristics of the training set.\n"
   ]
  },
  {
   "attachments": {},
   "cell_type": "markdown",
   "metadata": {
    "id": "SwxiUFGAwBsq"
   },
   "source": [
    "# Xgboost Example Submission"
   ]
  },
  {
   "attachments": {},
   "cell_type": "markdown",
   "metadata": {
    "id": "0o1AvFK_wBso"
   },
   "source": [
    "### Submission Process\n",
    "\n",
    "1. Ensure that all the code necessary to run your submission is called by either the `train()`, `infer()`, or both functions. The system will parse these functions to execute them in the cloud.\n",
    "\n",
    "2. Once satisfied with your work, download and submit your notebook (File -> Download -> Download.ipynb).\n",
    "\n",
    "3. Upload this notebook on [CrunchDAO's Venture Capital Submission page](https://hub.crunchdao.com/competitions/venture-capital-portfolio-prediction/submit)."
   ]
  },
  {
   "cell_type": "code",
   "execution_count": 6,
   "metadata": {},
   "outputs": [],
   "source": [
    "# Imports\n",
    "import sklearn\n",
    "import typing\n",
    "import joblib\n",
    "\n",
    "import xgboost as xgb\n",
    "import pandas as pd\n",
    "import numpy as np\n",
    "\n",
    "from pathlib import Path\n",
    "from scipy.stats import spearmanr\n",
    "\n",
    "def train(X_train: pd.DataFrame, y_train: pd.DataFrame, model_directory_path: str = \"resources\") -> None:\n",
    "    \"\"\"\n",
    "    Train an XGBoost model on the quantitative vc dataset and save it.\n",
    "\n",
    "    Args:\n",
    "        X_train: DataFrame with training features.\n",
    "        y_train: DataFrame with training labels.\n",
    "        model_directory_path: Path to save the trained model.\n",
    "\n",
    "    Returns:\n",
    "        None\n",
    "    \"\"\"\n",
    "    \n",
    "    # Create DMatrix objects for XGBoost\n",
    "    dtrain = xgb.DMatrix(X_train.iloc[:, 2:], label=y_train.iloc[:, 2:], enable_categorical=True)\n",
    "    \n",
    "    # Define XGBoost model with 'binary:logitraw' objective \n",
    "    params_logitraw = {\n",
    "        \"objective\": \"binary:logitraw\",\n",
    "        \"eval_metric\": \"logloss\",\n",
    "        \"eta\": 0.3,\n",
    "        \"max_depth\": 3\n",
    "    }\n",
    "\n",
    "    # Train the model\n",
    "    model_logitraw = xgb.train(params_logitraw, dtrain, num_boost_round=10)\n",
    "    \n",
    "    # Save the trained model in the specified directory\n",
    "    model_pathname = Path(model_directory_path) / \"model.joblib\"\n",
    "    print(f\"Saving model in {model_pathname}\")\n",
    "    joblib.dump(model_logitraw, model_pathname)\n",
    "\n",
    "\n",
    "def infer(X_test: pd.DataFrame, model_directory_path: str = \"resources\") -> pd.DataFrame:\n",
    "    \"\"\"\n",
    "    Use the trained XGBoost model to make predictions on Out-Of-Sample data.\n",
    "\n",
    "    Args:\n",
    "        model_directory_path: Path to the directory containing the trained model.\n",
    "        X_test: DataFrame with features for inference.\n",
    "\n",
    "    Returns:\n",
    "        DataFrame with inferences (date, id, value).\n",
    "    \"\"\"\n",
    "\n",
    "    # Above this threshold, the startup would be classified as 1; below it, it will be classified as 0\n",
    "    threshold = 0.5\n",
    "    \n",
    "    # Load the trained model saved by the train function\n",
    "    model = joblib.load(Path(model_directory_path) / \"model.joblib\")\n",
    "\n",
    "    # Create a DataFrame with date, id, and predicted target values\n",
    "    dtest = xgb.DMatrix(X_test.iloc[:, 2:])\n",
    "    y_test_predicted = X_test[[\"date\", \"id\"]].copy()\n",
    "    y_test_predicted[\"target_r3\"] = model.predict(dtest)\n",
    "    \n",
    "    # Apply threshold for binary predictions\n",
    "    probs_logitraw = 1 / (1 + np.exp(-y_test_predicted[\"target_r3\"]))\n",
    "    y_test_predicted[\"target_r3\"] = (probs_logitraw > threshold).astype(int)  \n",
    "\n",
    "    return y_test_predicted\n",
    "\n",
    "def temporal_train_test_split(X_train_loc, y_train_loc, test_size=0.2):\n",
    "    \"\"\"\n",
    "    Perform temporal train-test split on the quantitative vc data.\n",
    "\n",
    "    Args:\n",
    "        X_train_loc: DataFrame with training features.\n",
    "        y_train_loc: DataFrame with training labels.\n",
    "        test_size: Percentage of data to be used for testing.\n",
    "\n",
    "    Returns:\n",
    "        X_train_local, X_test_local, y_train_local, y_test_local\n",
    "    \"\"\"\n",
    "    unique_dates = X_train_loc.date.unique()\n",
    "    split_date = unique_dates[int(len(unique_dates)*(1 - test_size))]\n",
    "    X_train_local = X_train_loc[X_train_loc['date'] <= split_date]\n",
    "    X_test_local = X_train_loc[X_train_loc['date'] > split_date]\n",
    "    \n",
    "    y_train_local = y_train_loc[y_train_loc['date'] <= split_date]\n",
    "    y_test_local = y_train_loc[y_train_loc['date'] > split_date]\n",
    "    \n",
    "    return X_train_local, X_test_local, y_train_local, y_test_local\n"
   ]
  },
  {
   "cell_type": "code",
   "execution_count": 7,
   "metadata": {
    "id": "mQSnWoL6KWD2",
    "tags": []
   },
   "outputs": [
    {
     "name": "stdout",
     "output_type": "stream",
     "text": [
      "download data/X_train.parquet from https://crunchdao--competition--production.s3.eu-west-1.amazonaws.com/data-releases/24/X_train.parquet\n",
      "already exists: file length match\n",
      "download data/y_train.parquet from https://crunchdao--competition--production.s3.eu-west-1.amazonaws.com/data-releases/24/y_train.parquet\n",
      "already exists: file length match\n",
      "download data/X_test.parquet from https://crunchdao--competition--production.s3.eu-west-1.amazonaws.com/data-releases/24/X_test_reduced.parquet\n",
      "already exists: file length match\n",
      "download data/y_test.parquet from https://crunchdao--competition--production.s3.eu-west-1.amazonaws.com/data-releases/24/y_test_reduced.parquet\n",
      "already exists: file length match\n",
      "Splitting (X_train, y_train) in X_train_local, X_test_local, y_train_local, y_test_local\n"
     ]
    }
   ],
   "source": [
    "# Getting the data\n",
    "X_train, y_train, X_test = crunch.load_data()\n",
    "\n",
    "# Splitting the data\n",
    "print(\"Splitting (X_train, y_train) in X_train_local, X_test_local, y_train_local, y_test_local\")\n",
    "X_train_local, X_test_local, y_train_local, y_test_local = temporal_train_test_split(\n",
    "    X_train,\n",
    "    y_train,\n",
    "    test_size=0.2\n",
    ")"
   ]
  },
  {
   "cell_type": "code",
   "execution_count": 8,
   "metadata": {
    "id": "9PF8rrI2Cn9I",
    "tags": []
   },
   "outputs": [
    {
     "name": "stdout",
     "output_type": "stream",
     "text": [
      "Saving model in resources/model.joblib\n"
     ]
    }
   ],
   "source": [
    "# Training. It may require a few minutes.\n",
    "train(X_train_local, y_train_local)"
   ]
  },
  {
   "cell_type": "code",
   "execution_count": 9,
   "metadata": {},
   "outputs": [
    {
     "name": "stdout",
     "output_type": "stream",
     "text": [
      "Inference\n"
     ]
    }
   ],
   "source": [
    "print(\"Inference\")\n",
    "y_test_local_pred = infer(X_test_local, model_directory_path=\"resources\")"
   ]
  },
  {
   "cell_type": "code",
   "execution_count": 10,
   "metadata": {},
   "outputs": [
    {
     "name": "stdout",
     "output_type": "stream",
     "text": [
      "Number of selected startup = 407 over 827068 = 0.05%\n"
     ]
    },
    {
     "data": {
      "image/png": "[encoded data removed]",
      "text/plain": [
       "<Figure size 2600x600 with 1 Axes>"
      ]
     },
     "metadata": {},
     "output_type": "display_data"
    }
   ],
   "source": [
    "y_test_local_pred.target_r3.plot(figsize=(26, 6))\n",
    "print(f\"Number of selected startup = {y_test_local_pred.target_r3.sum()} over {len(y_test_local_pred)} = {round((y_test_local_pred.target_r3.sum()/len(y_test_local_pred)), 4)*100}%\")"
   ]
  },
  {
   "attachments": {},
   "cell_type": "markdown",
   "metadata": {
    "id": "6XA4DXZtBOKz"
   },
   "source": [
    "# Testing Your Submission Locally\n",
    "\n",
    "You can use the `crunch` package's function to run your code locally, simulating the same execution process as in the cloud (i.e., one date at a time). If it runs without any issues locally, it is highly likely that there won't be problems when executing it on the CrunchDAO's system in the cloud.\n",
    "\n",
    "Setting `force_first_train=True` means that your model will be trained on the first date of the test set."
   ]
  },
  {
   "cell_type": "code",
   "execution_count": 11,
   "metadata": {
    "id": "x-6qSxTNXJ5p"
   },
   "outputs": [
    {
     "name": "stdout",
     "output_type": "stream",
     "text": [
      "Remove unused data to release memory\n"
     ]
    }
   ],
   "source": [
    "print(\"Remove unused data to release memory\")\n",
    "del X_train, y_train, X_test, X_train_local, X_test_local, y_train_local, y_test_local"
   ]
  },
  {
   "cell_type": "code",
   "execution_count": 12,
   "metadata": {
    "id": "jio87DOxBOKz"
   },
   "outputs": [
    {
     "name": "stderr",
     "output_type": "stream",
     "text": [
      "17:34:53 no forbidden library found\n",
      "17:34:53 \n",
      "17:34:53 running local test\n",
      "17:34:53 internet access isn't restricted, no check will be done\n",
      "17:34:53 \n"
     ]
    },
    {
     "name": "stdout",
     "output_type": "stream",
     "text": [
      "download data/X_train.parquet from https://crunchdao--competition--production.s3.eu-west-1.amazonaws.com/data-releases/24/X_train.parquet\n",
      "already exists: file length match\n",
      "download data/y_train.parquet from https://crunchdao--competition--production.s3.eu-west-1.amazonaws.com/data-releases/24/y_train.parquet\n",
      "already exists: file length match\n",
      "download data/X_test.parquet from https://crunchdao--competition--production.s3.eu-west-1.amazonaws.com/data-releases/24/X_test_reduced.parquet\n",
      "already exists: file length match\n",
      "download data/y_test.parquet from https://crunchdao--competition--production.s3.eu-west-1.amazonaws.com/data-releases/24/y_test_reduced.parquet\n",
      "already exists: file length match\n"
     ]
    },
    {
     "name": "stderr",
     "output_type": "stream",
     "text": [
      "17:35:19 ---\n",
      "17:35:19 loop: moon=36 train=True (1/2)\n",
      "17:35:19 call: train\n"
     ]
    },
    {
     "name": "stdout",
     "output_type": "stream",
     "text": [
      "Saving model in resources/model.joblib\n"
     ]
    },
    {
     "name": "stderr",
     "output_type": "stream",
     "text": [
      "17:41:26 call: infer\n",
      "17:41:32 ---\n",
      "17:41:32 loop: moon=37 train=True (2/2)\n",
      "17:41:32 call: train\n"
     ]
    },
    {
     "name": "stdout",
     "output_type": "stream",
     "text": [
      "Saving model in resources/model.joblib\n"
     ]
    },
    {
     "name": "stderr",
     "output_type": "stream",
     "text": [
      "17:46:40 call: infer\n",
      "17:46:47 prediction_path=data/prediction.csv\n",
      "17:46:47 duration: time=00:11:53\n",
      "17:46:47 memory: before=\"269.41 MB\" after=\"357.06 MB\" consumed=\"87.64 MB\"\n",
      "17:46:47 local test succesfully run!\n"
     ]
    },
    {
     "data": {
      "text/html": [
       "<div>\n",
       "<style scoped>\n",
       "    .dataframe tbody tr th:only-of-type {\n",
       "        vertical-align: middle;\n",
       "    }\n",
       "\n",
       "    .dataframe tbody tr th {\n",
       "        vertical-align: top;\n",
       "    }\n",
       "\n",
       "    .dataframe thead th {\n",
       "        text-align: right;\n",
       "    }\n",
       "</style>\n",
       "<table border=\"1\" class=\"dataframe\">\n",
       "  <thead>\n",
       "    <tr style=\"text-align: right;\">\n",
       "      <th></th>\n",
       "      <th>date</th>\n",
       "      <th>id</th>\n",
       "      <th>target_r3</th>\n",
       "    </tr>\n",
       "  </thead>\n",
       "  <tbody>\n",
       "    <tr>\n",
       "      <th>0</th>\n",
       "      <td>36</td>\n",
       "      <td>5318593</td>\n",
       "      <td>0</td>\n",
       "    </tr>\n",
       "    <tr>\n",
       "      <th>1</th>\n",
       "      <td>36</td>\n",
       "      <td>5318595</td>\n",
       "      <td>0</td>\n",
       "    </tr>\n",
       "    <tr>\n",
       "      <th>2</th>\n",
       "      <td>36</td>\n",
       "      <td>5318596</td>\n",
       "      <td>0</td>\n",
       "    </tr>\n",
       "    <tr>\n",
       "      <th>3</th>\n",
       "      <td>36</td>\n",
       "      <td>5318601</td>\n",
       "      <td>0</td>\n",
       "    </tr>\n",
       "    <tr>\n",
       "      <th>4</th>\n",
       "      <td>36</td>\n",
       "      <td>5318602</td>\n",
       "      <td>0</td>\n",
       "    </tr>\n",
       "    <tr>\n",
       "      <th>...</th>\n",
       "      <td>...</td>\n",
       "      <td>...</td>\n",
       "      <td>...</td>\n",
       "    </tr>\n",
       "    <tr>\n",
       "      <th>123514</th>\n",
       "      <td>37</td>\n",
       "      <td>5810904</td>\n",
       "      <td>0</td>\n",
       "    </tr>\n",
       "    <tr>\n",
       "      <th>123515</th>\n",
       "      <td>37</td>\n",
       "      <td>5810907</td>\n",
       "      <td>0</td>\n",
       "    </tr>\n",
       "    <tr>\n",
       "      <th>123516</th>\n",
       "      <td>37</td>\n",
       "      <td>5810908</td>\n",
       "      <td>0</td>\n",
       "    </tr>\n",
       "    <tr>\n",
       "      <th>123517</th>\n",
       "      <td>37</td>\n",
       "      <td>5810909</td>\n",
       "      <td>0</td>\n",
       "    </tr>\n",
       "    <tr>\n",
       "      <th>123518</th>\n",
       "      <td>37</td>\n",
       "      <td>5810910</td>\n",
       "      <td>0</td>\n",
       "    </tr>\n",
       "  </tbody>\n",
       "</table>\n",
       "<p>246509 rows × 3 columns</p>\n",
       "</div>"
      ],
      "text/plain": [
       "        date       id  target_r3\n",
       "0         36  5318593          0\n",
       "1         36  5318595          0\n",
       "2         36  5318596          0\n",
       "3         36  5318601          0\n",
       "4         36  5318602          0\n",
       "...      ...      ...        ...\n",
       "123514    37  5810904          0\n",
       "123515    37  5810907          0\n",
       "123516    37  5810908          0\n",
       "123517    37  5810909          0\n",
       "123518    37  5810910          0\n",
       "\n",
       "[246509 rows x 3 columns]"
      ]
     },
     "execution_count": 12,
     "metadata": {},
     "output_type": "execute_result"
    }
   ],
   "source": [
    "crunch.test(force_first_train=True)"
   ]
  },
  {
   "attachments": {},
   "cell_type": "markdown",
   "metadata": {
    "id": "JcxaEabsZrXm"
   },
   "source": [
    "# Remember to download and submit this notebook to https://hub.crunchdao.com/competitions/venture-capital-portfolio-prediction/submit"
   ]
  }
 ],
 "metadata": {
  "colab": {
   "collapsed_sections": [
    "QIGffwE2wBsi",
    "fJqTMeLqwBsm",
    "nXacC2GmwBso",
    "SwxiUFGAwBsq"
   ],
   "provenance": []
  },
  "kernelspec": {
   "display_name": "Python 3 (ipykernel)",
   "language": "python",
   "name": "python3"
  },
  "language_info": {
   "codemirror_mode": {
    "name": "ipython",
    "version": 3
   },
   "file_extension": ".py",
   "mimetype": "text/x-python",
   "name": "python",
   "nbconvert_exporter": "python",
   "pygments_lexer": "ipython3",
   "version": "3.10.12"
  }
 },
 "nbformat": 4,
 "nbformat_minor": 4
}
